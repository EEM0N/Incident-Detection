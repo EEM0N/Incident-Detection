{
 "cells": [
  {
   "cell_type": "markdown",
   "metadata": {},
   "source": [
    "A Machine Learning Project may not be linear, but it has a number of well known steps:\n",
    "1.Define Problem.\n",
    "2.Prepare Data.\n",
    "3.Evaluate Algorithms.\n",
    "4.Improve Results.\n",
    "5.Present Results.\n",
    "\n",
    "In this section, we are going to work through a small machine learning project end-to-end.\n",
    "\n",
    "Here is an overview of what we are going to cover:\n",
    "\n",
    "1.Installing the Python and SciPy platform.\n",
    "2.Loading the dataset.\n",
    "3.Summarizing the dataset.\n",
    "4.Evaluating some algorithms.\n",
    "5.Making some predictions."
   ]
  },
  {
   "cell_type": "markdown",
   "metadata": {},
   "source": [
    "1.Downloading, Installing and Starting Python SciPy"
   ]
  },
  {
   "cell_type": "code",
   "execution_count": 226,
   "metadata": {},
   "outputs": [],
   "source": [
    "# from xml.dom import minidom\n",
    "import numpy as np\n",
    "import pandas\n",
    "import csv\n",
    "from pandas.plotting import scatter_matrix\n",
    "import matplotlib.pyplot as plt\n",
    "from sklearn import model_selection\n",
    "from sklearn.metrics import classification_report\n",
    "from sklearn.metrics import confusion_matrix\n",
    "from sklearn.metrics import accuracy_score\n",
    "from sklearn.svm import SVC"
   ]
  },
  {
   "cell_type": "markdown",
   "metadata": {},
   "source": [
    "2. Load The Data"
   ]
  },
  {
   "cell_type": "code",
   "execution_count": 247,
   "metadata": {},
   "outputs": [],
   "source": [
    "#Load dataset\n",
    "url ='dataset/LaneClosure/L10130/2 s interval(including2hops)/1,2,3 close/L30.csv'\n",
    "names = [\"Time\",\"Edge ID\",\"Edge Length\",\"NumberOfLane\",\"Lane Name\",\"Jam Length\",\"Density\",\"Mean Speed\",\"Mean Occupancy\",\"Flow\",\"Road State(basedOnJamLength)\",\"Road State(basedOnFlow)\"]\n",
    "dataset = pandas.read_csv(url, names=names,skiprows=1)"
   ]
  },
  {
   "cell_type": "code",
   "execution_count": 248,
   "metadata": {},
   "outputs": [
    {
     "data": {
      "text/plain": [
       "<matplotlib.collections.PathCollection at 0x189354a2710>"
      ]
     },
     "execution_count": 248,
     "metadata": {},
     "output_type": "execute_result"
    },
    {
     "data": {
      "image/png": "[encoded data removed]",
      "text/plain": [
       "<matplotlib.figure.Figure at 0x18932e501d0>"
      ]
     },
     "metadata": {},
     "output_type": "display_data"
    }
   ],
   "source": [
    "plt.scatter(dataset['Flow'], dataset['Mean Speed'])"
   ]
  },
  {
   "cell_type": "code",
   "execution_count": 249,
   "metadata": {},
   "outputs": [
    {
     "data": {
      "text/html": [
       "<div>\n",
       "<style scoped>\n",
       "    .dataframe tbody tr th:only-of-type {\n",
       "        vertical-align: middle;\n",
       "    }\n",
       "\n",
       "    .dataframe tbody tr th {\n",
       "        vertical-align: top;\n",
       "    }\n",
       "\n",
       "    .dataframe thead th {\n",
       "        text-align: right;\n",
       "    }\n",
       "</style>\n",
       "<table border=\"1\" class=\"dataframe\">\n",
       "  <thead>\n",
       "    <tr style=\"text-align: right;\">\n",
       "      <th></th>\n",
       "      <th>Time</th>\n",
       "      <th>Edge ID</th>\n",
       "      <th>Edge Length</th>\n",
       "      <th>NumberOfLane</th>\n",
       "      <th>Lane Name</th>\n",
       "      <th>Jam Length</th>\n",
       "      <th>Density</th>\n",
       "      <th>Mean Speed</th>\n",
       "      <th>Mean Occupancy</th>\n",
       "      <th>Flow</th>\n",
       "      <th>Road State(basedOnJamLength)</th>\n",
       "      <th>Road State(basedOnFlow)</th>\n",
       "    </tr>\n",
       "  </thead>\n",
       "  <tbody>\n",
       "    <tr>\n",
       "      <th>0</th>\n",
       "      <td>06:00:02</td>\n",
       "      <td>L30</td>\n",
       "      <td>99.68</td>\n",
       "      <td>4</td>\n",
       "      <td>L30_3,L30_2,L30_1,L30_0</td>\n",
       "      <td>0.0</td>\n",
       "      <td>0</td>\n",
       "      <td>-0.0000</td>\n",
       "      <td>0.0000</td>\n",
       "      <td>0</td>\n",
       "      <td>0</td>\n",
       "      <td>0</td>\n",
       "    </tr>\n",
       "    <tr>\n",
       "      <th>1</th>\n",
       "      <td>06:00:04</td>\n",
       "      <td>L30</td>\n",
       "      <td>99.68</td>\n",
       "      <td>4</td>\n",
       "      <td>L30_3,L30_2,L30_1,L30_0</td>\n",
       "      <td>0.0</td>\n",
       "      <td>0</td>\n",
       "      <td>-0.0000</td>\n",
       "      <td>0.0000</td>\n",
       "      <td>0</td>\n",
       "      <td>0</td>\n",
       "      <td>0</td>\n",
       "    </tr>\n",
       "    <tr>\n",
       "      <th>2</th>\n",
       "      <td>06:00:06</td>\n",
       "      <td>L30</td>\n",
       "      <td>99.68</td>\n",
       "      <td>4</td>\n",
       "      <td>L30_3,L30_2,L30_1,L30_0</td>\n",
       "      <td>0.0</td>\n",
       "      <td>0</td>\n",
       "      <td>-0.0000</td>\n",
       "      <td>0.0000</td>\n",
       "      <td>0</td>\n",
       "      <td>0</td>\n",
       "      <td>0</td>\n",
       "    </tr>\n",
       "    <tr>\n",
       "      <th>3</th>\n",
       "      <td>06:00:08</td>\n",
       "      <td>L30</td>\n",
       "      <td>99.68</td>\n",
       "      <td>4</td>\n",
       "      <td>L30_3,L30_2,L30_1,L30_0</td>\n",
       "      <td>0.0</td>\n",
       "      <td>0</td>\n",
       "      <td>-0.0000</td>\n",
       "      <td>0.0000</td>\n",
       "      <td>0</td>\n",
       "      <td>0</td>\n",
       "      <td>0</td>\n",
       "    </tr>\n",
       "    <tr>\n",
       "      <th>4</th>\n",
       "      <td>06:00:10</td>\n",
       "      <td>L30</td>\n",
       "      <td>99.68</td>\n",
       "      <td>4</td>\n",
       "      <td>L30_3,L30_2,L30_1,L30_0</td>\n",
       "      <td>0.0</td>\n",
       "      <td>0</td>\n",
       "      <td>-0.0000</td>\n",
       "      <td>0.0000</td>\n",
       "      <td>0</td>\n",
       "      <td>0</td>\n",
       "      <td>0</td>\n",
       "    </tr>\n",
       "    <tr>\n",
       "      <th>157</th>\n",
       "      <td>06:05:16</td>\n",
       "      <td>L30</td>\n",
       "      <td>99.68</td>\n",
       "      <td>4</td>\n",
       "      <td>L30_3,L30_2,L30_1,L30_0</td>\n",
       "      <td>0.0</td>\n",
       "      <td>1</td>\n",
       "      <td>14.7125</td>\n",
       "      <td>4.7050</td>\n",
       "      <td>1</td>\n",
       "      <td>0</td>\n",
       "      <td>1</td>\n",
       "    </tr>\n",
       "    <tr>\n",
       "      <th>159</th>\n",
       "      <td>06:05:20</td>\n",
       "      <td>L30</td>\n",
       "      <td>99.68</td>\n",
       "      <td>4</td>\n",
       "      <td>L30_3,L30_2,L30_1,L30_0</td>\n",
       "      <td>0.0</td>\n",
       "      <td>2</td>\n",
       "      <td>20.0775</td>\n",
       "      <td>5.5900</td>\n",
       "      <td>2</td>\n",
       "      <td>0</td>\n",
       "      <td>1</td>\n",
       "    </tr>\n",
       "    <tr>\n",
       "      <th>186</th>\n",
       "      <td>06:06:14</td>\n",
       "      <td>L30</td>\n",
       "      <td>99.68</td>\n",
       "      <td>4</td>\n",
       "      <td>L30_3,L30_2,L30_1,L30_0</td>\n",
       "      <td>0.0</td>\n",
       "      <td>2</td>\n",
       "      <td>16.5750</td>\n",
       "      <td>5.3700</td>\n",
       "      <td>2</td>\n",
       "      <td>0</td>\n",
       "      <td>1</td>\n",
       "    </tr>\n",
       "    <tr>\n",
       "      <th>187</th>\n",
       "      <td>06:06:16</td>\n",
       "      <td>L30</td>\n",
       "      <td>99.68</td>\n",
       "      <td>4</td>\n",
       "      <td>L30_3,L30_2,L30_1,L30_0</td>\n",
       "      <td>0.0</td>\n",
       "      <td>2</td>\n",
       "      <td>28.8150</td>\n",
       "      <td>6.2275</td>\n",
       "      <td>2</td>\n",
       "      <td>0</td>\n",
       "      <td>1</td>\n",
       "    </tr>\n",
       "    <tr>\n",
       "      <th>213</th>\n",
       "      <td>06:07:08</td>\n",
       "      <td>L30</td>\n",
       "      <td>99.68</td>\n",
       "      <td>4</td>\n",
       "      <td>L30_3,L30_2,L30_1,L30_0</td>\n",
       "      <td>0.0</td>\n",
       "      <td>2</td>\n",
       "      <td>13.9000</td>\n",
       "      <td>5.3000</td>\n",
       "      <td>2</td>\n",
       "      <td>0</td>\n",
       "      <td>1</td>\n",
       "    </tr>\n",
       "  </tbody>\n",
       "</table>\n",
       "</div>"
      ],
      "text/plain": [
       "         Time Edge ID  Edge Length  NumberOfLane                Lane Name  \\\n",
       "0    06:00:02     L30        99.68             4  L30_3,L30_2,L30_1,L30_0   \n",
       "1    06:00:04     L30        99.68             4  L30_3,L30_2,L30_1,L30_0   \n",
       "2    06:00:06     L30        99.68             4  L30_3,L30_2,L30_1,L30_0   \n",
       "3    06:00:08     L30        99.68             4  L30_3,L30_2,L30_1,L30_0   \n",
       "4    06:00:10     L30        99.68             4  L30_3,L30_2,L30_1,L30_0   \n",
       "157  06:05:16     L30        99.68             4  L30_3,L30_2,L30_1,L30_0   \n",
       "159  06:05:20     L30        99.68             4  L30_3,L30_2,L30_1,L30_0   \n",
       "186  06:06:14     L30        99.68             4  L30_3,L30_2,L30_1,L30_0   \n",
       "187  06:06:16     L30        99.68             4  L30_3,L30_2,L30_1,L30_0   \n",
       "213  06:07:08     L30        99.68             4  L30_3,L30_2,L30_1,L30_0   \n",
       "\n",
       "     Jam Length  Density  Mean Speed  Mean Occupancy  Flow  \\\n",
       "0           0.0        0     -0.0000          0.0000     0   \n",
       "1           0.0        0     -0.0000          0.0000     0   \n",
       "2           0.0        0     -0.0000          0.0000     0   \n",
       "3           0.0        0     -0.0000          0.0000     0   \n",
       "4           0.0        0     -0.0000          0.0000     0   \n",
       "157         0.0        1     14.7125          4.7050     1   \n",
       "159         0.0        2     20.0775          5.5900     2   \n",
       "186         0.0        2     16.5750          5.3700     2   \n",
       "187         0.0        2     28.8150          6.2275     2   \n",
       "213         0.0        2     13.9000          5.3000     2   \n",
       "\n",
       "     Road State(basedOnJamLength)  Road State(basedOnFlow)  \n",
       "0                               0                        0  \n",
       "1                               0                        0  \n",
       "2                               0                        0  \n",
       "3                               0                        0  \n",
       "4                               0                        0  \n",
       "157                             0                        1  \n",
       "159                             0                        1  \n",
       "186                             0                        1  \n",
       "187                             0                        1  \n",
       "213                             0                        1  "
      ]
     },
     "execution_count": 249,
     "metadata": {},
     "output_type": "execute_result"
    }
   ],
   "source": [
    "# class distribution\n",
    "dataset.groupby('Road State(basedOnFlow)').head()\n"
   ]
  },
  {
   "cell_type": "code",
   "execution_count": 250,
   "metadata": {},
   "outputs": [
    {
     "data": {
      "image/png": "[encoded data removed]",
      "text/plain": [
       "<matplotlib.figure.Figure at 0x18935400940>"
      ]
     },
     "metadata": {},
     "output_type": "display_data"
    },
    {
     "data": {
      "image/png": "[encoded data removed]",
      "text/plain": [
       "<matplotlib.figure.Figure at 0x189356fcef0>"
      ]
     },
     "metadata": {},
     "output_type": "display_data"
    }
   ],
   "source": [
    "abnormalcase = dataset.loc[dataset['Road State(basedOnFlow)']==1];\n",
    "normalcase = dataset.loc[dataset['Road State(basedOnFlow)']==0];\n",
    "\n",
    "plt.scatter(normalcase['Flow'], normalcase['Mean Speed']);\n",
    "plt.xlim(0,30); plt.ylim(0,1.1)\n",
    "plt.figure(); plt.scatter(abnormalcase['Flow'], abnormalcase['Mean Speed']);"
   ]
  },
  {
   "cell_type": "markdown",
   "metadata": {},
   "source": [
    "3.In this step we are going to take a look at the data a few different ways:\n",
    "\n",
    "Dimensions of the dataset.\n",
    "Peek at the data itself.\n",
    "Statistical summary of all attributes.\n",
    "Breakdown of the data by the class variable."
   ]
  },
  {
   "cell_type": "code",
   "execution_count": 251,
   "metadata": {},
   "outputs": [
    {
     "name": "stdout",
     "output_type": "stream",
     "text": [
      "        Edge Length  NumberOfLane   Jam Length      Density   Mean Speed  \\\n",
      "count  5.401000e+03        5401.0  5401.000000  5401.000000  5401.000000   \n",
      "mean   9.968000e+01           4.0    13.318545     3.985743    12.447743   \n",
      "std    4.590531e-12           0.0    25.473387     3.799462     7.338071   \n",
      "min    9.968000e+01           4.0     0.000000     0.000000    -0.000000   \n",
      "25%    9.968000e+01           4.0     0.000000     2.000000     7.335000   \n",
      "50%    9.968000e+01           4.0     0.000000     2.000000    12.625000   \n",
      "75%    9.968000e+01           4.0    11.625000     6.000000    17.315000   \n",
      "max    9.968000e+01           4.0    98.912500    14.000000    37.195000   \n",
      "\n",
      "       Mean Occupancy         Flow  Road State(basedOnJamLength)  \\\n",
      "count     5401.000000  5401.000000                   5401.000000   \n",
      "mean        16.215674     3.985743                      0.080541   \n",
      "std         17.368381     3.799462                      0.306704   \n",
      "min          0.000000     0.000000                      0.000000   \n",
      "25%          4.657500     2.000000                      0.000000   \n",
      "50%          7.650000     2.000000                      0.000000   \n",
      "75%         24.255000     6.000000                      0.000000   \n",
      "max         65.085000    14.000000                      2.000000   \n",
      "\n",
      "       Road State(basedOnFlow)  \n",
      "count              5401.000000  \n",
      "mean                  0.351046  \n",
      "std                   0.477342  \n",
      "min                   0.000000  \n",
      "25%                   0.000000  \n",
      "50%                   0.000000  \n",
      "75%                   1.000000  \n",
      "max                   1.000000  \n"
     ]
    }
   ],
   "source": [
    "# descriptions\n",
    "print(dataset.describe())"
   ]
  },
  {
   "cell_type": "code",
   "execution_count": 252,
   "metadata": {},
   "outputs": [
    {
     "name": "stdout",
     "output_type": "stream",
     "text": [
      "Road State(basedOnFlow)\n",
      "0    3505\n",
      "1    1896\n",
      "dtype: int64\n"
     ]
    }
   ],
   "source": [
    "# class distribution\n",
    "print(dataset.groupby('Road State(basedOnFlow)').size())"
   ]
  },
  {
   "cell_type": "markdown",
   "metadata": {},
   "source": [
    "4. Evaluate Some Algorithms\n",
    "Now it is time to create some models of the data and estimate their accuracy on unseen data.\n",
    "\n",
    "Here is what we are going to cover in this step:\n",
    "\n",
    "Separate out a validation dataset.\n",
    "Set-up the test harness to use 10-fold cross validation.\n",
    "Build 5 different models to predict species from flower measurements\n",
    "Select the best model."
   ]
  },
  {
   "cell_type": "code",
   "execution_count": 253,
   "metadata": {},
   "outputs": [
    {
     "name": "stdout",
     "output_type": "stream",
     "text": [
      "[[-0.0 0]\n",
      " [-0.0 0]\n",
      " [-0.0 0]\n",
      " ...\n",
      " [14.1875 1]\n",
      " [15.4675 2]\n",
      " [10.6825 1]]\n"
     ]
    }
   ],
   "source": [
    "# Split-out validation dataset\n",
    "array = dataset.values\n",
    "X = array[:,[7,9]]\n",
    "\n",
    "Y = array[:,11]\n",
    "Y=Y.astype('int')\n",
    "\n",
    "validation_size = 0.30\n",
    "seed = 7\n",
    "X_train, X_validation, Y_train, Y_validation = model_selection.train_test_split(X, Y, test_size=validation_size, random_state=seed)\n",
    "\n",
    "print(X)"
   ]
  },
  {
   "cell_type": "code",
   "execution_count": 254,
   "metadata": {},
   "outputs": [],
   "source": [
    "# Test options and evaluation metric\n",
    "seed = 7\n",
    "scoring = 'accuracy'"
   ]
  },
  {
   "cell_type": "code",
   "execution_count": 255,
   "metadata": {},
   "outputs": [
    {
     "name": "stdout",
     "output_type": "stream",
     "text": [
      "SVM: 0.729630 (0.021058)\n"
     ]
    }
   ],
   "source": [
    "# Spot Check Algorithms\n",
    "models=[]\n",
    "\n",
    "svc = SVC(kernel='rbf', C=1,gamma='auto').fit(X_train, Y_train)\n",
    "\n",
    "models.append(('SVM', svc))\n",
    "# evaluate each model in turn\n",
    "results = []\n",
    "names = []\n",
    "for name, model in models:\n",
    "    kfold = model_selection.KFold(n_splits=10, random_state=seed)\n",
    "    #kfold = model_selection.KFold(n_splits=10)\n",
    "    cv_results = model_selection.cross_val_score(svc, X_train, Y_train, cv=kfold, scoring=scoring)\n",
    "    results.append(cv_results)\n",
    "    names.append(name)\n",
    "    \n",
    "    msg = \"%s: %f (%f)\" % (name, cv_results.mean(), cv_results.std())\n",
    "    print(msg)"
   ]
  },
  {
   "cell_type": "markdown",
   "metadata": {},
   "source": [
    "5.Make Predictions"
   ]
  },
  {
   "cell_type": "code",
   "execution_count": 256,
   "metadata": {},
   "outputs": [
    {
     "name": "stdout",
     "output_type": "stream",
     "text": [
      "Accuracy : 0.7199259716224553\n"
     ]
    },
    {
     "data": {
      "image/png": "[encoded data removed]",
      "text/plain": [
       "<matplotlib.figure.Figure at 0x18932fd2128>"
      ]
     },
     "metadata": {},
     "output_type": "display_data"
    }
   ],
   "source": [
    "# Make predictions on validation dataset\n",
    "predictions = svc.predict(X_validation)\n",
    "print('Accuracy :',accuracy_score(Y_validation, predictions))\n",
    "cm=confusion_matrix(Y_validation, predictions)\n",
    "\n",
    "plt.clf()\n",
    "plt.imshow(cm, interpolation='nearest', cmap=plt.cm.Wistia)\n",
    "classNames = ['Normal','Abnormal']\n",
    "plt.title('Normal or Abnormal Confusion Matrix')\n",
    "plt.ylabel('True label')\n",
    "plt.xlabel('Predicted label')\n",
    "tick_marks = np.arange(len(classNames))\n",
    "plt.xticks(tick_marks, classNames, rotation=45)\n",
    "plt.yticks(tick_marks, classNames)\n",
    "s = [['TN','FP'], ['FN', 'TP']]\n",
    "for i in range(2):\n",
    "    for j in range(2):\n",
    "        plt.text(j,i, str(s[i][j])+\" = \"+str(cm[i][j]))\n",
    "plt.show()\n"
   ]
  },
  {
   "cell_type": "code",
   "execution_count": null,
   "metadata": {},
   "outputs": [],
   "source": [
    "# create a mesh to plot in\n",
    "x_min, x_max = X[:, 0].min() - 0, X[:, 0].max() + 0\n",
    "y_min, y_max = X[:, 1].min() - 0, X[:, 1].max() + 0\n",
    "h = (x_max / x_min)/100\n",
    "xx, yy = np.meshgrid(np.arange(x_min, x_max, h),\n",
    " np.arange(y_min, y_max, h))"
   ]
  },
  {
   "cell_type": "code",
   "execution_count": null,
   "metadata": {},
   "outputs": [],
   "source": [
    "plt.subplot(1, 1, 1)\n",
    "Z = svc.predict(np.c_[xx.ravel(), yy.ravel()])\n",
    "Z = Z.reshape(xx.shape)\n",
    "plt.contourf(xx, yy, Z, cmap=plt.cm.Paired, alpha=0.8)\n",
    "plt.scatter(X[:, 0], X[:, 1], c=Y, cmap=plt.cm.Paired)\n",
    "plt.xlabel('Mean Speed')\n",
    "plt.ylabel('Flow')\n",
    "plt.xlim(xx.min(), xx.max())\n",
    "plt.title('SVC with RBF kernel')\n",
    "plt.show()"
   ]
  }
 ],
 "metadata": {
  "kernelspec": {
   "display_name": "Python 3",
   "language": "python",
   "name": "python3"
  },
  "language_info": {
   "codemirror_mode": {
    "name": "ipython",
    "version": 3
   },
   "file_extension": ".py",
   "mimetype": "text/x-python",
   "name": "python",
   "nbconvert_exporter": "python",
   "pygments_lexer": "ipython3",
   "version": "3.7.0"
  }
 },
 "nbformat": 4,
 "nbformat_minor": 2
}
